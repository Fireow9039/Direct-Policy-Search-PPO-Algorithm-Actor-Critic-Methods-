{
  "nbformat": 4,
  "nbformat_minor": 0,
  "metadata": {
    "colab": {
      "provenance": [],
      "include_colab_link": true
    },
    "kernelspec": {
      "name": "python3",
      "display_name": "Python 3"
    },
    "language_info": {
      "name": "python"
    }
  },
  "cells": [
    {
      "cell_type": "markdown",
      "metadata": {
        "id": "view-in-github",
        "colab_type": "text"
      },
      "source": [
        "<a href=\"https://colab.research.google.com/github/Fireow9039/Direct-Policy-Search-PPO-Algorithm-Actor-Critic-Methods-/blob/main/NN%2BRL.ipynb\" target=\"_parent\"><img src=\"https://colab.research.google.com/assets/colab-badge.svg\" alt=\"Open In Colab\"/></a>"
      ]
    },
    {
      "cell_type": "code",
      "execution_count": null,
      "metadata": {
        "id": "dlvETdJrk5n7"
      },
      "outputs": [],
      "source": [
        "import numpy as np\n",
        "import pandas as pd\n",
        "import matplotlib.pyplot as plt\n",
        "import seaborn as sns\n",
        "\n",
        "from sklearn.datasets import load_breast_cancer\n",
        "from sklearn.model_selection import StratifiedKFold\n",
        "from sklearn.metrics import accuracy_score, f1_score\n",
        "from sklearn.preprocessing import StandardScaler\n",
        "from sklearn.linear_model import LassoCV, LogisticRegression\n",
        "from sklearn.feature_selection import SelectFromModel, RFE\n",
        "from sklearn.ensemble import RandomForestClassifier\n",
        "\n",
        "import tensorflow as tf\n",
        "from tensorflow.keras.models import Model\n",
        "from tensorflow.keras.layers import Input, Dense, Layer\n",
        "from tensorflow.keras.initializers import GlorotNormal, Constant\n",
        "from tensorflow.keras.optimizers import Adam"
      ]
    },
    {
      "cell_type": "code",
      "source": [
        "def load_and_prepare_data():\n",
        "    data = load_breast_cancer()\n",
        "    X = pd.DataFrame(data.data, columns=data.feature_names)\n",
        "    y = pd.Series(data.target)\n",
        "    scaler = StandardScaler()\n",
        "    X_scaled = scaler.fit_transform(X)\n",
        "    return X_scaled, y.values, list(data.feature_names)"
      ],
      "metadata": {
        "id": "2KTYaT9AlUFD"
      },
      "execution_count": null,
      "outputs": []
    },
    {
      "cell_type": "code",
      "source": [
        "class ConcreteSelector(Layer):\n",
        "    def __init__(self, output_dim, start_temp=10.0, min_temp=0.1):\n",
        "        super(ConcreteSelector, self).__init__()\n",
        "        self.output_dim = output_dim\n",
        "        self.start_temp = start_temp\n",
        "        self.min_temp = min_temp\n",
        "\n",
        "    def build(self, input_shape):\n",
        "      self.temp = self.add_weight(name=\"temp\", shape=(), initializer=Constant(self.start_temp), trainable=False)\n",
        "      self.logits = self.add_weight(name=\"logits\", shape=(self.output_dim, input_shape[-1]), initializer=GlorotNormal(), trainable=True)\n",
        "\n",
        "    def call(self, X, training=True):\n",
        "        uniform = tf.random.uniform(shape=tf.shape(self.logits), minval=1e-10, maxval=1.0)\n",
        "        gumbel_noise = -tf.math.log(-tf.math.log(uniform))\n",
        "        noisy_logits = (self.logits + gumbel_noise) / tf.maximum(self.min_temp, self.temp)\n",
        "        soft_samples = tf.nn.softmax(noisy_logits, axis=-1)\n",
        "        selected_features = tf.matmul(X, tf.transpose(soft_samples))\n",
        "        return selected_features, soft_samples"
      ],
      "metadata": {
        "id": "-TA3kKcwlWPm"
      },
      "execution_count": null,
      "outputs": []
    },
    {
      "cell_type": "code",
      "source": [
        "def build_policy_network(input_dim):\n",
        "    inputs = Input(shape=(input_dim,))\n",
        "    x = Dense(32, activation='relu')(inputs)\n",
        "    x = Dense(32, activation='relu')(x)\n",
        "    outputs = Dense(input_dim, activation='sigmoid')(x)\n",
        "    return Model(inputs, outputs)"
      ],
      "metadata": {
        "id": "6jRmUnL-lZU5"
      },
      "execution_count": null,
      "outputs": []
    },
    {
      "cell_type": "code",
      "source": [
        "def build_classifier(input_dim):\n",
        "    inputs = Input(shape=(input_dim,))\n",
        "    x = Dense(64, activation='relu')(inputs)\n",
        "    x = Dense(32, activation='relu')(x)\n",
        "    outputs = Dense(2, activation='softmax')(x)\n",
        "    return Model(inputs, outputs)"
      ],
      "metadata": {
        "id": "qX9JvRpAlZcf"
      },
      "execution_count": null,
      "outputs": []
    },
    {
      "cell_type": "code",
      "source": [
        "def compute_reward(y_true, y_pred, mask, alpha=0.01):\n",
        "    acc = accuracy_score(y_true, y_pred)\n",
        "    selected_features = np.sum(mask)\n",
        "    total_features = len(mask)\n",
        "    penalty = alpha * (selected_features / total_features)\n",
        "    return acc - penalty"
      ],
      "metadata": {
        "id": "jj8GgKFzlZfu"
      },
      "execution_count": null,
      "outputs": []
    },
    {
      "cell_type": "code",
      "source": [
        "def visualize_weights(weights, feature_names):\n",
        "    mean_weights = np.mean(weights, axis=0)\n",
        "    top_indices = np.argsort(-mean_weights)[:10]\n",
        "    plt.figure(figsize=(10, 4))\n",
        "    sns.barplot(x=[feature_names[i] for i in top_indices], y=mean_weights[top_indices])\n",
        "    plt.title(\"Top 10 Feature Importance\")\n",
        "    plt.xticks(rotation=90)\n",
        "    plt.tight_layout()\n",
        "    plt.show()"
      ],
      "metadata": {
        "id": "-wrktNeelZl9"
      },
      "execution_count": null,
      "outputs": []
    },
    {
      "cell_type": "code",
      "source": [
        "def train_feature_selector_rl(X, y, feature_names, num_epochs=50, policy_epochs=25):\n",
        "    input_dim = X.shape[1]\n",
        "    selector = ConcreteSelector(output_dim=input_dim)\n",
        "    classifier = build_classifier(input_dim)\n",
        "    policy_net = build_policy_network(input_dim)\n",
        "\n",
        "    optimizer_selector = Adam(learning_rate=0.01)\n",
        "    optimizer_policy = Adam(learning_rate=0.005)\n",
        "    loss_fn = tf.keras.losses.SparseCategoricalCrossentropy()\n",
        "\n",
        "    # Pre-train selector\n",
        "    for epoch in range(num_epochs):\n",
        "        with tf.GradientTape() as tape:\n",
        "            X_input = tf.convert_to_tensor(X, dtype=tf.float32)\n",
        "            selected, weights = selector(X_input, training=True)\n",
        "            recon = tf.matmul(selected, selector.logits)\n",
        "            loss = tf.reduce_mean(tf.square(X_input - recon))\n",
        "        grads = tape.gradient(loss, selector.trainable_variables)\n",
        "        optimizer_selector.apply_gradients(zip(grads, selector.trainable_variables))\n",
        "\n",
        "    # Train with RL\n",
        "    rewards = []\n",
        "    for epoch in range(policy_epochs):\n",
        "        X_input = tf.convert_to_tensor(X, dtype=tf.float32)\n",
        "        selected_features, weights = selector(X_input, training=False)\n",
        "\n",
        "        probs = policy_net(selected_features)\n",
        "        masks = tf.cast(probs > 0.5, tf.float32).numpy()\n",
        "        X_masked = X_input.numpy() * masks\n",
        "\n",
        "        clf = build_classifier(input_dim)\n",
        "        clf.compile(optimizer='adam', loss='sparse_categorical_crossentropy', metrics=['accuracy'])\n",
        "        clf.fit(X_masked, y, epochs=10, verbose=0)\n",
        "        y_pred = np.argmax(clf.predict(X_masked), axis=1)\n",
        "\n",
        "        reward = compute_reward(y, y_pred, masks[0])\n",
        "        rewards.append(reward)\n",
        "\n",
        "        with tf.GradientTape() as tape:\n",
        "            policy_out = policy_net(selected_features)\n",
        "            loss = -tf.reduce_mean(tf.convert_to_tensor(reward, dtype=tf.float32) * tf.math.log(policy_out + 1e-8))\n",
        "        grads = tape.gradient(loss, policy_net.trainable_variables)\n",
        "        optimizer_policy.apply_gradients(zip(grads, policy_net.trainable_variables))\n",
        "\n",
        "    y_pred = np.argmax(clf.predict(X_masked), axis=1)\n",
        "    acc = accuracy_score(y, y_pred)\n",
        "    f1 = f1_score(y, y_pred)\n",
        "    print(\"\\n[RL-Based Feature Selector Results]\")\n",
        "    print(f\"Accuracy: {acc:.4f}, F1 Score: {f1:.4f}, Reward: {np.mean(rewards):.4f}\")\n",
        "    visualize_weights(weights.numpy(), feature_names)\n",
        "    return acc, f1"
      ],
      "metadata": {
        "id": "LQZBTbdalZpj"
      },
      "execution_count": null,
      "outputs": []
    },
    {
      "cell_type": "code",
      "source": [
        "def lasso_baseline(X, y):\n",
        "    lasso = LassoCV(cv=5).fit(X, y)\n",
        "    model = SelectFromModel(lasso, prefit=True)\n",
        "    X_sel = model.transform(X)\n",
        "    clf = LogisticRegression(max_iter=1000).fit(X_sel, y)\n",
        "    y_pred = clf.predict(X_sel)\n",
        "    acc = accuracy_score(y, y_pred)\n",
        "    f1 = f1_score(y, y_pred)\n",
        "    print(\"\\n[Lasso Baseline Results]\")\n",
        "    return acc, f1\n",
        "\n",
        "def rfe_baseline(X, y):\n",
        "    base_model = LogisticRegression(max_iter=1000)\n",
        "    selector = RFE(base_model, n_features_to_select=5).fit(X, y)\n",
        "    X_sel = selector.transform(X)\n",
        "    base_model.fit(X_sel, y)\n",
        "    y_pred = base_model.predict(X_sel)\n",
        "    acc = accuracy_score(y, y_pred)\n",
        "    f1 = f1_score(y, y_pred)\n",
        "    print(\"\\n[RFE Baseline Results]\")\n",
        "    return acc, f1"
      ],
      "metadata": {
        "id": "-R8lFPwzlZs-"
      },
      "execution_count": null,
      "outputs": []
    },
    {
      "cell_type": "code",
      "source": [
        "if __name__ == '__main__':\n",
        "    X, y, feature_names = load_and_prepare_data()\n",
        "\n",
        "    acc_rl, f1_rl = train_feature_selector_rl(X, y, feature_names)\n",
        "    acc_lasso, f1_lasso = lasso_baseline(X, y)\n",
        "    acc_rfe, f1_rfe = rfe_baseline(X, y)\n",
        "\n",
        "    print(\"\\n--- Final Comparison Table ---\")\n",
        "    print(f\"RL Selector     -> Accuracy: {acc_rl:.4f}, F1: {f1_rl:.4f}\")\n",
        "    print(f\"Lasso           -> Accuracy: {acc_lasso:.4f}, F1: {f1_lasso:.4f}\")\n",
        "    print(f\"RFE             -> Accuracy: {acc_rfe:.4f}, F1: {f1_rfe:.4f}\")"
      ],
      "metadata": {
        "colab": {
          "base_uri": "https://localhost:8080/",
          "height": 1000
        },
        "id": "rdxQ315mlpuq",
        "outputId": "7a5c5597-031e-445f-f3c6-fb66f0165720"
      },
      "execution_count": null,
      "outputs": [
        {
          "output_type": "stream",
          "name": "stdout",
          "text": [
            "\u001b[1m18/18\u001b[0m \u001b[32m━━━━━━━━━━━━━━━━━━━━\u001b[0m\u001b[37m\u001b[0m \u001b[1m0s\u001b[0m 5ms/step\n",
            "\u001b[1m18/18\u001b[0m \u001b[32m━━━━━━━━━━━━━━━━━━━━\u001b[0m\u001b[37m\u001b[0m \u001b[1m0s\u001b[0m 4ms/step\n",
            "\u001b[1m18/18\u001b[0m \u001b[32m━━━━━━━━━━━━━━━━━━━━\u001b[0m\u001b[37m\u001b[0m \u001b[1m0s\u001b[0m 7ms/step\n",
            "\u001b[1m18/18\u001b[0m \u001b[32m━━━━━━━━━━━━━━━━━━━━\u001b[0m\u001b[37m\u001b[0m \u001b[1m0s\u001b[0m 5ms/step\n",
            "\u001b[1m18/18\u001b[0m \u001b[32m━━━━━━━━━━━━━━━━━━━━\u001b[0m\u001b[37m\u001b[0m \u001b[1m0s\u001b[0m 4ms/step\n",
            "\u001b[1m18/18\u001b[0m \u001b[32m━━━━━━━━━━━━━━━━━━━━\u001b[0m\u001b[37m\u001b[0m \u001b[1m0s\u001b[0m 5ms/step\n",
            "\u001b[1m18/18\u001b[0m \u001b[32m━━━━━━━━━━━━━━━━━━━━\u001b[0m\u001b[37m\u001b[0m \u001b[1m0s\u001b[0m 7ms/step\n",
            "\u001b[1m18/18\u001b[0m \u001b[32m━━━━━━━━━━━━━━━━━━━━\u001b[0m\u001b[37m\u001b[0m \u001b[1m0s\u001b[0m 4ms/step\n",
            "\u001b[1m18/18\u001b[0m \u001b[32m━━━━━━━━━━━━━━━━━━━━\u001b[0m\u001b[37m\u001b[0m \u001b[1m0s\u001b[0m 5ms/step\n",
            "\u001b[1m18/18\u001b[0m \u001b[32m━━━━━━━━━━━━━━━━━━━━\u001b[0m\u001b[37m\u001b[0m \u001b[1m0s\u001b[0m 5ms/step\n",
            "\u001b[1m18/18\u001b[0m \u001b[32m━━━━━━━━━━━━━━━━━━━━\u001b[0m\u001b[37m\u001b[0m \u001b[1m0s\u001b[0m 6ms/step\n",
            "\u001b[1m18/18\u001b[0m \u001b[32m━━━━━━━━━━━━━━━━━━━━\u001b[0m\u001b[37m\u001b[0m \u001b[1m0s\u001b[0m 7ms/step\n",
            "\u001b[1m18/18\u001b[0m \u001b[32m━━━━━━━━━━━━━━━━━━━━\u001b[0m\u001b[37m\u001b[0m \u001b[1m0s\u001b[0m 4ms/step\n",
            "\u001b[1m18/18\u001b[0m \u001b[32m━━━━━━━━━━━━━━━━━━━━\u001b[0m\u001b[37m\u001b[0m \u001b[1m0s\u001b[0m 4ms/step\n",
            "\u001b[1m18/18\u001b[0m \u001b[32m━━━━━━━━━━━━━━━━━━━━\u001b[0m\u001b[37m\u001b[0m \u001b[1m0s\u001b[0m 4ms/step\n",
            "\u001b[1m18/18\u001b[0m \u001b[32m━━━━━━━━━━━━━━━━━━━━\u001b[0m\u001b[37m\u001b[0m \u001b[1m0s\u001b[0m 5ms/step\n",
            "\u001b[1m18/18\u001b[0m \u001b[32m━━━━━━━━━━━━━━━━━━━━\u001b[0m\u001b[37m\u001b[0m \u001b[1m0s\u001b[0m 7ms/step\n",
            "\u001b[1m18/18\u001b[0m \u001b[32m━━━━━━━━━━━━━━━━━━━━\u001b[0m\u001b[37m\u001b[0m \u001b[1m0s\u001b[0m 5ms/step\n",
            "\u001b[1m18/18\u001b[0m \u001b[32m━━━━━━━━━━━━━━━━━━━━\u001b[0m\u001b[37m\u001b[0m \u001b[1m0s\u001b[0m 4ms/step\n",
            "\u001b[1m18/18\u001b[0m \u001b[32m━━━━━━━━━━━━━━━━━━━━\u001b[0m\u001b[37m\u001b[0m \u001b[1m0s\u001b[0m 5ms/step\n",
            "\u001b[1m18/18\u001b[0m \u001b[32m━━━━━━━━━━━━━━━━━━━━\u001b[0m\u001b[37m\u001b[0m \u001b[1m0s\u001b[0m 6ms/step\n",
            "\u001b[1m18/18\u001b[0m \u001b[32m━━━━━━━━━━━━━━━━━━━━\u001b[0m\u001b[37m\u001b[0m \u001b[1m0s\u001b[0m 4ms/step\n",
            "\u001b[1m18/18\u001b[0m \u001b[32m━━━━━━━━━━━━━━━━━━━━\u001b[0m\u001b[37m\u001b[0m \u001b[1m0s\u001b[0m 4ms/step\n",
            "\u001b[1m18/18\u001b[0m \u001b[32m━━━━━━━━━━━━━━━━━━━━\u001b[0m\u001b[37m\u001b[0m \u001b[1m0s\u001b[0m 5ms/step\n",
            "\u001b[1m18/18\u001b[0m \u001b[32m━━━━━━━━━━━━━━━━━━━━\u001b[0m\u001b[37m\u001b[0m \u001b[1m0s\u001b[0m 4ms/step\n",
            "\u001b[1m18/18\u001b[0m \u001b[32m━━━━━━━━━━━━━━━━━━━━\u001b[0m\u001b[37m\u001b[0m \u001b[1m0s\u001b[0m 2ms/step \n",
            "\n",
            "[RL-Based Feature Selector Results]\n",
            "Accuracy: 0.9859, F1 Score: 0.9888, Reward: 0.9789\n"
          ]
        },
        {
          "output_type": "display_data",
          "data": {
            "text/plain": [
              "<Figure size 1000x400 with 1 Axes>"
            ],
            "image/png": "[encoded data removed]"
          },
          "metadata": {}
        },
        {
          "output_type": "stream",
          "name": "stderr",
          "text": [
            "/usr/local/lib/python3.11/dist-packages/sklearn/linear_model/_coordinate_descent.py:681: ConvergenceWarning: Objective did not converge. You might want to increase the number of iterations. Duality gap: 0.020023834778704952, tolerance: 0.00984263736263736\n",
            "  model = cd_fast.enet_coordinate_descent_gram(\n",
            "/usr/local/lib/python3.11/dist-packages/sklearn/linear_model/_coordinate_descent.py:681: ConvergenceWarning: Objective did not converge. You might want to increase the number of iterations. Duality gap: 0.02352934130620099, tolerance: 0.00984263736263736\n",
            "  model = cd_fast.enet_coordinate_descent_gram(\n",
            "/usr/local/lib/python3.11/dist-packages/sklearn/linear_model/_coordinate_descent.py:681: ConvergenceWarning: Objective did not converge. You might want to increase the number of iterations. Duality gap: 0.011313444416757079, tolerance: 0.00984263736263736\n",
            "  model = cd_fast.enet_coordinate_descent_gram(\n"
          ]
        },
        {
          "output_type": "stream",
          "name": "stdout",
          "text": [
            "\n",
            "[Lasso Baseline Results]\n",
            "\n",
            "[RFE Baseline Results]\n",
            "\n",
            "--- Final Comparison Table ---\n",
            "RL Selector     -> Accuracy: 0.9859, F1: 0.9888\n",
            "Lasso           -> Accuracy: 0.9877, F1: 0.9902\n",
            "RFE             -> Accuracy: 0.9666, F1: 0.9734\n"
          ]
        }
      ]
    },
    {
      "cell_type": "code",
      "source": [],
      "metadata": {
        "id": "YzalJukilZxZ"
      },
      "execution_count": null,
      "outputs": []
    }
  ]
}